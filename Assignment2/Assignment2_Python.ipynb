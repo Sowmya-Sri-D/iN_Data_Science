{
 "cells": [
  {
   "cell_type": "markdown",
   "metadata": {},
   "source": [
    "###### Problem Stament :\n",
    "Write a program which accepts a sequence of comma-separated numbers from console and generate a list."
   ]
  },
  {
   "cell_type": "markdown",
   "metadata": {},
   "source": [
    "Solution:"
   ]
  },
  {
   "cell_type": "code",
   "execution_count": 3,
   "metadata": {},
   "outputs": [
    {
     "name": "stdout",
     "output_type": "stream",
     "text": [
      "Please enter a sequence of numbers by using comma as a seperator\n",
      "(For Example: 1,4,5,2,3,4,.....)\n",
      "1,2,3,5,756,7858,76,85675\n",
      "['1', '2', '3', '5', '756', '7858', '76', '85675']\n"
     ]
    }
   ],
   "source": [
    "data=input(\"Please enter a sequence of numbers by using comma as a seperator\\n(For Example: 1,4,5,2,3,4,.....)\\n\")\n",
    "data=data.split(',')\n",
    "data=list(data)\n",
    "print(data)"
   ]
  },
  {
   "cell_type": "markdown",
   "metadata": {},
   "source": [
    "### Assignment2:"
   ]
  },
  {
   "cell_type": "markdown",
   "metadata": {},
   "source": [
    "###### 1. Create the below pattern using nested for loop in Python"
   ]
  },
  {
   "cell_type": "raw",
   "metadata": {},
   "source": [
    "Sample Output:\n",
    "    \n",
    "*\n",
    "* *\n",
    "* * *\n",
    "* * * *\n",
    "* * * * *\n",
    "* * * *\n",
    "* * *\n",
    "* *\n",
    "*"
   ]
  },
  {
   "cell_type": "markdown",
   "metadata": {},
   "source": [
    "Solution:"
   ]
  },
  {
   "cell_type": "code",
   "execution_count": 26,
   "metadata": {},
   "outputs": [
    {
     "name": "stdout",
     "output_type": "stream",
     "text": [
      "\n",
      "* \n",
      "* * \n",
      "* * * \n",
      "* * * * \n",
      "* * * * * \n",
      "* * * * \n",
      "* * * \n",
      "* * \n",
      "* \n"
     ]
    }
   ],
   "source": [
    "max_asterix=5\n",
    "for i in range(max_asterix):\n",
    "    for j in range(i):\n",
    "        print('* ',end=\"\")\n",
    "    print(\"\")\n",
    "    \n",
    "for i in range(max_asterix,0,-1):\n",
    "    for j in range(i):\n",
    "        print('* ',end=\"\")\n",
    "    print(\"\")\n",
    "       "
   ]
  },
  {
   "cell_type": "markdown",
   "metadata": {},
   "source": [
    "###### 2. Write a Python program to reverse a word after accepting the input from the user.\n",
    "Input word: ineuron\n",
    "Output: norueni"
   ]
  },
  {
   "cell_type": "code",
   "execution_count": 27,
   "metadata": {},
   "outputs": [
    {
     "name": "stdout",
     "output_type": "stream",
     "text": [
      "Please enter a word: ineuron\n",
      "Word you have entered is:  ineuron \n",
      "Reverse of the word you entered is:  norueni\n"
     ]
    }
   ],
   "source": [
    "a=input(\"Please enter a word: \")\n",
    "print(\"Word you have entered is: \",a,\"\\nReverse of the word you entered is: \",a[::-1])"
   ]
  }
 ],
 "metadata": {
  "kernelspec": {
   "display_name": "Python 3",
   "language": "python",
   "name": "python3"
  },
  "language_info": {
   "codemirror_mode": {
    "name": "ipython",
    "version": 3
   },
   "file_extension": ".py",
   "mimetype": "text/x-python",
   "name": "python",
   "nbconvert_exporter": "python",
   "pygments_lexer": "ipython3",
   "version": "3.6.4"
  }
 },
 "nbformat": 4,
 "nbformat_minor": 2
}
